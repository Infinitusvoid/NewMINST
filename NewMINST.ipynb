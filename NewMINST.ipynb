{
 "cells": [
  {
   "cell_type": "markdown",
   "id": "18c12e45-5e34-4d9f-ab3d-1bd3659505cd",
   "metadata": {},
   "source": [
    "# NewMINST"
   ]
  },
  {
   "cell_type": "markdown",
   "id": "3b67f482-65f5-44a7-9571-ff39cd1e8171",
   "metadata": {},
   "source": [
    "## Link to github repository \n",
    "\n",
    "https://github.com/Infinitusvoid/NewMINST\n",
    "\n",
    "## Tasks until now\n",
    "\n",
    "* created the enviroment NewMINST\n",
    "\n",
    "```\n",
    "conda install pytorch torchvision torchaudio pytorch-cuda=12.4 -c pytorch -c nvidia\n",
    "```\n"
   ]
  },
  {
   "cell_type": "code",
   "execution_count": null,
   "id": "5efb6b91-5639-45c4-8fb7-2d6504c1fb47",
   "metadata": {},
   "outputs": [],
   "source": []
  }
 ],
 "metadata": {
  "kernelspec": {
   "display_name": "Python 3 (ipykernel)",
   "language": "python",
   "name": "python3"
  },
  "language_info": {
   "codemirror_mode": {
    "name": "ipython",
    "version": 3
   },
   "file_extension": ".py",
   "mimetype": "text/x-python",
   "name": "python",
   "nbconvert_exporter": "python",
   "pygments_lexer": "ipython3",
   "version": "3.12.7"
  }
 },
 "nbformat": 4,
 "nbformat_minor": 5
}
