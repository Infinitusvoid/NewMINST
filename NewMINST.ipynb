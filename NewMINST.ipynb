{
 "cells": [
  {
   "cell_type": "markdown",
   "id": "18c12e45-5e34-4d9f-ab3d-1bd3659505cd",
   "metadata": {},
   "source": [
    "# NewMINST"
   ]
  },
  {
   "cell_type": "markdown",
   "id": "3b67f482-65f5-44a7-9571-ff39cd1e8171",
   "metadata": {},
   "source": [
    "## Link to github repository \n",
    "\n",
    "https://github.com/Infinitusvoid/NewMINST\n",
    "\n",
    "## Tasks until now\n",
    "\n",
    "* created the enviroment NewMINST\n",
    "\n",
    "```\n",
    "conda install pytorch torchvision torchaudio pytorch-cuda=12.4 -c pytorch -c nvidia\n",
    "```\n"
   ]
  },
  {
   "cell_type": "code",
   "execution_count": 1,
   "id": "5efb6b91-5639-45c4-8fb7-2d6504c1fb47",
   "metadata": {},
   "outputs": [
    {
     "data": {
      "text/plain": [
       "True"
      ]
     },
     "execution_count": 1,
     "metadata": {},
     "output_type": "execute_result"
    }
   ],
   "source": [
    "import torch\n",
    "torch.cuda.is_available()"
   ]
  },
  {
   "cell_type": "markdown",
   "id": "468de76c-8340-4b77-9c0f-898d27d8b187",
   "metadata": {},
   "source": [
    "find out how to train minst dataset example install the enviroment \n",
    "\n",
    "you have the code to read the minst dataset already copy paste and explain the code \n",
    "\n",
    "set up ComfyUI to generate usefull data for\n",
    "the new MINST dataset\n",
    "\n",
    "use the web json duddle to write examples of numbers than write the code in C++ that draws the nicely \n",
    "\n",
    "\n",
    "write the code that resizes \n",
    "the image to the size of 64x64x3 \n",
    "\n",
    "\n",
    "\n",
    "what happens if we train with random data what is the learning going on what happens if we increse the random generated dataset\n",
    "\n",
    "what is the ratio between dataset size and the number if parameters what happen when the number of examples in the dataset is higher than the number of parameters \n",
    "\n",
    "what happens if we add some noise to our traing data \n",
    "\n",
    "well ask ChatGPT about this what else exist and can be done I want to ▶️ with this a lot\n",
    "\n",
    "will we have the nothing output in the neural network or not ?\n",
    "\n",
    "will we rotate the numbers 6 and 9 ? \n",
    "\n",
    "what we do about the colors ?"
   ]
  }
 ],
 "metadata": {
  "kernelspec": {
   "display_name": "Python 3 (ipykernel)",
   "language": "python",
   "name": "python3"
  },
  "language_info": {
   "codemirror_mode": {
    "name": "ipython",
    "version": 3
   },
   "file_extension": ".py",
   "mimetype": "text/x-python",
   "name": "python",
   "nbconvert_exporter": "python",
   "pygments_lexer": "ipython3",
   "version": "3.12.7"
  }
 },
 "nbformat": 4,
 "nbformat_minor": 5
}
